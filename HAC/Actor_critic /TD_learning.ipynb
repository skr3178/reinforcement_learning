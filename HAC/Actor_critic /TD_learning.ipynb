{
 "cells": [
  {
   "metadata": {},
   "cell_type": "code",
   "outputs": [],
   "execution_count": null,
   "source": [
    "import numpy as np\n",
    "import gym\n",
    "# import gymnasium as gym"
   ],
   "id": "67ec3247ed4cf151"
  },
  {
   "metadata": {},
   "cell_type": "markdown",
   "source": "![Alt Text](img_1.png)",
   "id": "cc8f79c5aaa65517"
  },
  {
   "metadata": {},
   "cell_type": "code",
   "outputs": [],
   "execution_count": null,
   "source": [
    "def temporal_difference(n_samples, alpha, gamma):\n",
    "    # Initialize Q-values\n",
    "    Qsa = np.zeros((env.observation_space.n, env.action_space.n))\n",
    "    s = env.reset()[0]\n",
    "    # s = int(s)\n",
    "\n",
    "    for t in range(n_samples):\n",
    "        a = select_action(s, Qsa)\n",
    "        s_next, r, done, truncated, info = env.step(a)\n",
    "\n",
    "        # Update Q function each time step with max of action values\n",
    "        Qsa[s, a] = Qsa[s, a] + alpha * (r + gamma * np.max(Qsa[s_next]) - Qsa[s, a])\n",
    "\n",
    "        if done:\n",
    "            s = env.reset()[0]\n",
    "        else:\n",
    "            s = s_next\n",
    "\n",
    "    return Qsa\n",
    "\n",
    "def select_action(s, Qsa):\n",
    "    # Policy is epsilon-greedy\n",
    "    epsilon = 0.1\n",
    "    if np.random.rand() < epsilon:\n",
    "        a = np.random.randint(low=0, high=env.action_space.n)\n",
    "    else:\n",
    "        a = np.argmax(Qsa[s])\n",
    "    return a"
   ],
   "id": "23892a43b0a73a31"
  },
  {
   "metadata": {},
   "cell_type": "code",
   "outputs": [],
   "execution_count": null,
   "source": [
    "# Create environment\n",
    "env = gym.make('Taxi-v3')\n",
    "\n",
    "# Run temporal difference learning\n",
    "Q_values = temporal_difference(n_samples=10000, alpha=0.1, gamma=0.99)\n",
    "\n",
    "# Close the environment\n",
    "env.close()"
   ],
   "id": "initial_id"
  }
 ],
 "metadata": {
  "kernelspec": {
   "display_name": "Python 3",
   "language": "python",
   "name": "python3"
  },
  "language_info": {
   "codemirror_mode": {
    "name": "ipython",
    "version": 2
   },
   "file_extension": ".py",
   "mimetype": "text/x-python",
   "name": "python",
   "nbconvert_exporter": "python",
   "pygments_lexer": "ipython2",
   "version": "2.7.6"
  }
 },
 "nbformat": 4,
 "nbformat_minor": 5
}
